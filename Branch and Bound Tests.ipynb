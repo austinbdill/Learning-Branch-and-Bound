{
 "cells": [
  {
   "cell_type": "code",
   "execution_count": 1,
   "metadata": {},
   "outputs": [],
   "source": [
    "from branch_and_bound import *\n",
    "import numpy as np"
   ]
  },
  {
   "cell_type": "code",
   "execution_count": 2,
   "metadata": {},
   "outputs": [],
   "source": [
    "train_data = np.load('data/train_data_1.npy')"
   ]
  },
  {
   "cell_type": "code",
   "execution_count": 3,
   "metadata": {},
   "outputs": [],
   "source": [
    "clust = Cluster()"
   ]
  },
  {
   "cell_type": "code",
   "execution_count": 4,
   "metadata": {},
   "outputs": [],
   "source": [
    "var1 = Variable(10, 0)\n",
    "var2 = Variable(0, 10)"
   ]
  },
  {
   "cell_type": "code",
   "execution_count": 5,
   "metadata": {},
   "outputs": [],
   "source": [
    "clust.add_point(var1)\n",
    "clust.add_point(var2)"
   ]
  },
  {
   "cell_type": "code",
   "execution_count": 6,
   "metadata": {},
   "outputs": [],
   "source": [
    "clust.calc_center()"
   ]
  },
  {
   "cell_type": "code",
   "execution_count": 7,
   "metadata": {},
   "outputs": [
    {
     "data": {
      "text/plain": [
       "(5.0, 5.0)"
      ]
     },
     "execution_count": 7,
     "metadata": {},
     "output_type": "execute_result"
    }
   ],
   "source": [
    "clust.center"
   ]
  },
  {
   "cell_type": "code",
   "execution_count": 10,
   "metadata": {},
   "outputs": [
    {
     "name": "stdout",
     "output_type": "stream",
     "text": [
      "[-6.01198868  3.19818837]\n",
      "[4.13640081e+00 3.83060637e-03]\n",
      "[-7.85296093  3.37782916]\n",
      "[-9.00978383  5.75333385]\n",
      "[ 5.0423551  -2.28681734]\n",
      "(-6.011988684650861, 3.198188365206809)\n"
     ]
    },
    {
     "data": {
      "text/plain": [
       "[<branch_and_bound.Cluster at 0x10e5b0a90>,\n",
       " <branch_and_bound.Cluster at 0x10e5b09e8>,\n",
       " <branch_and_bound.Cluster at 0x10e5b0908>,\n",
       " <branch_and_bound.Cluster at 0x10e5b0b00>,\n",
       " <branch_and_bound.Cluster at 0x10e5b0b70>]"
      ]
     },
     "execution_count": 10,
     "metadata": {},
     "output_type": "execute_result"
    }
   ],
   "source": [
    "cluster_branch(train_data[0][0:5, :])"
   ]
  }
 ],
 "metadata": {
  "kernelspec": {
   "display_name": "Python 3",
   "language": "python",
   "name": "python3"
  },
  "language_info": {
   "codemirror_mode": {
    "name": "ipython",
    "version": 3
   },
   "file_extension": ".py",
   "mimetype": "text/x-python",
   "name": "python",
   "nbconvert_exporter": "python",
   "pygments_lexer": "ipython3",
   "version": "3.7.0"
  }
 },
 "nbformat": 4,
 "nbformat_minor": 2
}
