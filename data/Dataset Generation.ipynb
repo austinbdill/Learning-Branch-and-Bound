{
 "cells": [
  {
   "cell_type": "code",
   "execution_count": 57,
   "metadata": {},
   "outputs": [],
   "source": [
    "from sklearn.datasets import make_blobs\n",
    "import numpy as np\n",
    "import matplotlib.pyplot as plt"
   ]
  },
  {
   "cell_type": "code",
   "execution_count": 64,
   "metadata": {},
   "outputs": [],
   "source": [
    "n_instances = 500\n",
    "std = 2"
   ]
  },
  {
   "cell_type": "code",
   "execution_count": 65,
   "metadata": {},
   "outputs": [],
   "source": [
    "train_x = []\n",
    "train_y = []\n",
    "for i in range(n_instances):\n",
    "    X, Y = make_blobs(n_samples=35, n_features=2, centers=5, cluster_std = std)\n",
    "    train_x.append(X)\n",
    "    train_y.append(Y)"
   ]
  },
  {
   "cell_type": "code",
   "execution_count": 66,
   "metadata": {},
   "outputs": [
    {
     "name": "stdout",
     "output_type": "stream",
     "text": [
      "[[  0.24026867   6.95181245]\n",
      " [  4.2880971  -10.83498522]\n",
      " [  3.88020973   3.25785721]\n",
      " [ -5.42573536   4.3769831 ]\n",
      " [ -2.96830901   2.13695753]\n",
      " [-11.03466124  11.97066234]\n",
      " [-12.0726996    8.86379357]\n",
      " [ -1.34588023  -8.53244438]\n",
      " [ -1.85643828   0.19810291]\n",
      " [ -9.84858154   5.24554062]\n",
      " [  6.27183969   3.00910517]\n",
      " [  4.2506102   10.37038297]\n",
      " [  4.92871873   6.18030686]\n",
      " [ -9.38700851   2.63454497]\n",
      " [  6.07636402   7.5108936 ]\n",
      " [ -5.54766566  -0.43731403]\n",
      " [ -9.25258693  -1.88352036]\n",
      " [ -5.9799452   -1.20085884]\n",
      " [-15.50783776   9.25182065]\n",
      " [-12.90966717   9.35694892]\n",
      " [ -1.6515471  -13.15087558]\n",
      " [  1.42002824   4.23313677]\n",
      " [ -8.6030353    1.33383212]\n",
      " [ -6.79682332   0.05394175]\n",
      " [ -1.32731919  -8.56824962]\n",
      " [ -5.37273096   1.79458774]\n",
      " [-12.25280559   8.35293137]\n",
      " [ -7.06383983   1.65120901]\n",
      " [ -0.35899743  -9.89647397]\n",
      " [ -8.19376702   1.81479819]\n",
      " [  4.4817086   -8.06279725]\n",
      " [  0.52755623  -8.42828098]\n",
      " [ -1.46026242  -2.59112297]\n",
      " [ -8.39076749   0.02179679]\n",
      " [-10.83603509   6.05480889]]\n"
     ]
    }
   ],
   "source": [
    "print(train_x[0])"
   ]
  },
  {
   "cell_type": "code",
   "execution_count": 67,
   "metadata": {},
   "outputs": [
    {
     "data": {
      "text/plain": [
       "<matplotlib.collections.PathCollection at 0x7ff1eb6ceb70>"
      ]
     },
     "execution_count": 67,
     "metadata": {},
     "output_type": "execute_result"
    },
    {
     "data": {
      "image/png": "[encoded data removed]",
      "text/plain": [
       "<Figure size 432x288 with 1 Axes>"
      ]
     },
     "metadata": {},
     "output_type": "display_data"
    }
   ],
   "source": [
    "instance = 50\n",
    "plt.scatter(train_x[instance][:, 0], train_x[instance][ :, 1], c=train_y[instance])"
   ]
  },
  {
   "cell_type": "code",
   "execution_count": 69,
   "metadata": {},
   "outputs": [],
   "source": [
    "np.save('train_labels_2.npy', train_x)"
   ]
  }
 ],
 "metadata": {
  "kernelspec": {
   "display_name": "Python 3",
   "language": "python",
   "name": "python3"
  },
  "language_info": {
   "codemirror_mode": {
    "name": "ipython",
    "version": 3
   },
   "file_extension": ".py",
   "mimetype": "text/x-python",
   "name": "python",
   "nbconvert_exporter": "python",
   "pygments_lexer": "ipython3",
   "version": "3.6.5"
  }
 },
 "nbformat": 4,
 "nbformat_minor": 2
}
